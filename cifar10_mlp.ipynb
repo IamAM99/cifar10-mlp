{
 "cells": [
  {
   "cell_type": "markdown",
   "id": "8-Se1xepAlMX",
   "metadata": {
    "id": "8-Se1xepAlMX"
   },
   "source": [
    "# AI-Medic Asignment 2 - Machine Learning"
   ]
  },
  {
   "cell_type": "markdown",
   "id": "hkDh1g4zOaN0",
   "metadata": {
    "id": "hkDh1g4zOaN0"
   },
   "source": [
    "Name: Mohammad Arabzadeh  \n",
    "Email: a.mohamad7824@gmail.com"
   ]
  },
  {
   "cell_type": "markdown",
   "id": "nxGTJFAuAtTC",
   "metadata": {
    "id": "nxGTJFAuAtTC"
   },
   "source": [
    "In this project, I'm going to try to train the cifar10 dataset using MLP. Although image datasets are better be trained with CNN models, it is possible to achieve rough predictions just by using simple MLP models. "
   ]
  },
  {
   "cell_type": "markdown",
   "id": "I6mIxLP2BaQu",
   "metadata": {
    "id": "I6mIxLP2BaQu"
   },
   "source": [
    "## 1. Hyperparameter Tuning"
   ]
  },
  {
   "cell_type": "markdown",
   "id": "pRRyX4WuBh2W",
   "metadata": {
    "id": "pRRyX4WuBh2W"
   },
   "source": [
    "First, I'll import only one batch of the cifar10 dataset, which includes 10,000 images, and try to find optimal hyperparameters. In the next section, I'll use these hyperparameters to train the whole dataset. "
   ]
  },
  {
   "cell_type": "markdown",
   "id": "51e41ea5",
   "metadata": {
    "id": "51e41ea5"
   },
   "source": [
    "### Importing the Data"
   ]
  },
  {
   "cell_type": "code",
   "execution_count": 1,
   "id": "CXyCLb8YjE6n",
   "metadata": {
    "colab": {
     "base_uri": "https://localhost:8080/"
    },
    "executionInfo": {
     "elapsed": 484,
     "status": "ok",
     "timestamp": 1628366692441,
     "user": {
      "displayName": "Mohammad Arabzadeh",
      "photoUrl": "https://lh3.googleusercontent.com/a-/AOh14GjXkRiRkX2DO4nors8f63HDnft3XkirIOkrC2DN3A=s64",
      "userId": "16380365560082366556"
     },
     "user_tz": -270
    },
    "id": "CXyCLb8YjE6n",
    "outputId": "0ceca48d-056a-4f35-e844-3fa895a9944f"
   },
   "outputs": [
    {
     "name": "stdout",
     "output_type": "stream",
     "text": [
      "Drive already mounted at /content/drive; to attempt to forcibly remount, call drive.mount(\"/content/drive\", force_remount=True).\n"
     ]
    }
   ],
   "source": [
    "from google.colab import drive\n",
    "drive.mount('/content/drive')"
   ]
  },
  {
   "cell_type": "code",
   "execution_count": 2,
   "id": "8e53afd2",
   "metadata": {
    "executionInfo": {
     "elapsed": 10,
     "status": "ok",
     "timestamp": 1628366692804,
     "user": {
      "displayName": "Mohammad Arabzadeh",
      "photoUrl": "https://lh3.googleusercontent.com/a-/AOh14GjXkRiRkX2DO4nors8f63HDnft3XkirIOkrC2DN3A=s64",
      "userId": "16380365560082366556"
     },
     "user_tz": -270
    },
    "id": "8e53afd2"
   },
   "outputs": [],
   "source": [
    "def unpickle(file):\n",
    "    import pickle\n",
    "    with open(file, 'rb') as fo:\n",
    "        data = pickle.load(fo, encoding='bytes')\n",
    "    return data"
   ]
  },
  {
   "cell_type": "markdown",
   "id": "_K0NN912CGTr",
   "metadata": {
    "id": "_K0NN912CGTr"
   },
   "source": [
    "The files are assumed to be in \"/content/drive/MyDrive/AIMedic/proj_2\" path."
   ]
  },
  {
   "cell_type": "code",
   "execution_count": 3,
   "id": "74539ec6",
   "metadata": {
    "executionInfo": {
     "elapsed": 10,
     "status": "ok",
     "timestamp": 1628366692805,
     "user": {
      "displayName": "Mohammad Arabzadeh",
      "photoUrl": "https://lh3.googleusercontent.com/a-/AOh14GjXkRiRkX2DO4nors8f63HDnft3XkirIOkrC2DN3A=s64",
      "userId": "16380365560082366556"
     },
     "user_tz": -270
    },
    "id": "74539ec6"
   },
   "outputs": [],
   "source": [
    "meta_dict = unpickle('/content/drive/MyDrive/AIMedic/proj_2/batches.meta')\n",
    "data_dict = unpickle('/content/drive/MyDrive/AIMedic/proj_2/data_batch_1')"
   ]
  },
  {
   "cell_type": "markdown",
   "id": "429e2295",
   "metadata": {
    "id": "429e2295"
   },
   "source": [
    "### Storing the Data"
   ]
  },
  {
   "cell_type": "markdown",
   "id": "b3af598f",
   "metadata": {
    "id": "b3af598f"
   },
   "source": [
    "Now, I'll save the values that we need in appropriate variables. "
   ]
  },
  {
   "cell_type": "code",
   "execution_count": 4,
   "id": "2c0eb4e5",
   "metadata": {
    "executionInfo": {
     "elapsed": 10,
     "status": "ok",
     "timestamp": 1628366692805,
     "user": {
      "displayName": "Mohammad Arabzadeh",
      "photoUrl": "https://lh3.googleusercontent.com/a-/AOh14GjXkRiRkX2DO4nors8f63HDnft3XkirIOkrC2DN3A=s64",
      "userId": "16380365560082366556"
     },
     "user_tz": -270
    },
    "id": "2c0eb4e5"
   },
   "outputs": [],
   "source": [
    "import numpy as np\n",
    "import matplotlib.pyplot as plt"
   ]
  },
  {
   "cell_type": "code",
   "execution_count": 5,
   "id": "1aa80730",
   "metadata": {
    "executionInfo": {
     "elapsed": 11,
     "status": "ok",
     "timestamp": 1628366692806,
     "user": {
      "displayName": "Mohammad Arabzadeh",
      "photoUrl": "https://lh3.googleusercontent.com/a-/AOh14GjXkRiRkX2DO4nors8f63HDnft3XkirIOkrC2DN3A=s64",
      "userId": "16380365560082366556"
     },
     "user_tz": -270
    },
    "id": "1aa80730"
   },
   "outputs": [],
   "source": [
    "## Save label names in meta\n",
    "meta = list(meta_dict[b'label_names'])\n",
    "\n",
    "## Values in meta are in 'bytes' type. we'll convert them to strings\n",
    "meta = [item.decode('utf-8') for idx, item in enumerate(meta)]"
   ]
  },
  {
   "cell_type": "code",
   "execution_count": 6,
   "id": "21aa6077",
   "metadata": {
    "colab": {
     "base_uri": "https://localhost:8080/"
    },
    "executionInfo": {
     "elapsed": 10,
     "status": "ok",
     "timestamp": 1628366692806,
     "user": {
      "displayName": "Mohammad Arabzadeh",
      "photoUrl": "https://lh3.googleusercontent.com/a-/AOh14GjXkRiRkX2DO4nors8f63HDnft3XkirIOkrC2DN3A=s64",
      "userId": "16380365560082366556"
     },
     "user_tz": -270
    },
    "id": "21aa6077",
    "outputId": "222423ac-17b3-471f-e3cc-ce3e70217e0c"
   },
   "outputs": [
    {
     "name": "stdout",
     "output_type": "stream",
     "text": [
      "(10000,)\n",
      "[6 9 9 ... 1 1 5]\n"
     ]
    }
   ],
   "source": [
    "## Save labels values in a numpy array\n",
    "labels_raw = np.array(data_dict[b'labels'])\n",
    "\n",
    "print(labels_raw.shape)\n",
    "print(labels_raw)"
   ]
  },
  {
   "cell_type": "code",
   "execution_count": 7,
   "id": "0832ccd7",
   "metadata": {
    "colab": {
     "base_uri": "https://localhost:8080/"
    },
    "executionInfo": {
     "elapsed": 9,
     "status": "ok",
     "timestamp": 1628366692806,
     "user": {
      "displayName": "Mohammad Arabzadeh",
      "photoUrl": "https://lh3.googleusercontent.com/a-/AOh14GjXkRiRkX2DO4nors8f63HDnft3XkirIOkrC2DN3A=s64",
      "userId": "16380365560082366556"
     },
     "user_tz": -270
    },
    "id": "0832ccd7",
    "outputId": "d3b5498d-8223-49ff-fd43-4c730ee68aa7"
   },
   "outputs": [
    {
     "name": "stdout",
     "output_type": "stream",
     "text": [
      "(10000, 3072)\n",
      "[ 59  43  50 ... 140  84  72]\n"
     ]
    }
   ],
   "source": [
    "## Save image data values in a numpy array\n",
    "data_raw = np.array(data_dict[b'data'])\n",
    "\n",
    "print(data_raw.shape)\n",
    "print(data_raw[0])"
   ]
  },
  {
   "cell_type": "markdown",
   "id": "0cba5bf8",
   "metadata": {
    "id": "0cba5bf8"
   },
   "source": [
    "### Exploring the Data"
   ]
  },
  {
   "cell_type": "markdown",
   "id": "1d55fbbf",
   "metadata": {
    "id": "1d55fbbf"
   },
   "source": [
    "Class numbers and what they represent:"
   ]
  },
  {
   "cell_type": "code",
   "execution_count": 8,
   "id": "58a6987a",
   "metadata": {
    "colab": {
     "base_uri": "https://localhost:8080/"
    },
    "executionInfo": {
     "elapsed": 9,
     "status": "ok",
     "timestamp": 1628366692807,
     "user": {
      "displayName": "Mohammad Arabzadeh",
      "photoUrl": "https://lh3.googleusercontent.com/a-/AOh14GjXkRiRkX2DO4nors8f63HDnft3XkirIOkrC2DN3A=s64",
      "userId": "16380365560082366556"
     },
     "user_tz": -270
    },
    "id": "58a6987a",
    "outputId": "2ded89ce-8ff2-4650-9c2f-aa23626070c0"
   },
   "outputs": [
    {
     "name": "stdout",
     "output_type": "stream",
     "text": [
      "Class 0: airplane\n",
      "Class 1: automobile\n",
      "Class 2: bird\n",
      "Class 3: cat\n",
      "Class 4: deer\n",
      "Class 5: dog\n",
      "Class 6: frog\n",
      "Class 7: horse\n",
      "Class 8: ship\n",
      "Class 9: truck\n"
     ]
    }
   ],
   "source": [
    "for idx, item in enumerate(meta):\n",
    "    print(\"Class {}:\".format(idx), item)"
   ]
  },
  {
   "cell_type": "markdown",
   "id": "e1eac596",
   "metadata": {
    "id": "e1eac596"
   },
   "source": [
    "Number of data in each class:"
   ]
  },
  {
   "cell_type": "code",
   "execution_count": 9,
   "id": "17c859c6",
   "metadata": {
    "colab": {
     "base_uri": "https://localhost:8080/"
    },
    "executionInfo": {
     "elapsed": 16,
     "status": "ok",
     "timestamp": 1628366693351,
     "user": {
      "displayName": "Mohammad Arabzadeh",
      "photoUrl": "https://lh3.googleusercontent.com/a-/AOh14GjXkRiRkX2DO4nors8f63HDnft3XkirIOkrC2DN3A=s64",
      "userId": "16380365560082366556"
     },
     "user_tz": -270
    },
    "id": "17c859c6",
    "outputId": "40641445-0c32-4d4f-f5ee-b3c87c188ef3"
   },
   "outputs": [
    {
     "name": "stdout",
     "output_type": "stream",
     "text": [
      "[[   0    1    2    3    4    5    6    7    8    9]\n",
      " [1005  974 1032 1016  999  937 1030 1001 1025  981]]\n"
     ]
    }
   ],
   "source": [
    "print(np.array(np.unique(labels_raw, return_counts=True)))"
   ]
  },
  {
   "cell_type": "markdown",
   "id": "6022c6e4",
   "metadata": {
    "id": "6022c6e4"
   },
   "source": [
    "Shape of image data:"
   ]
  },
  {
   "cell_type": "code",
   "execution_count": 10,
   "id": "ebbbfb88",
   "metadata": {
    "colab": {
     "base_uri": "https://localhost:8080/"
    },
    "executionInfo": {
     "elapsed": 15,
     "status": "ok",
     "timestamp": 1628366693351,
     "user": {
      "displayName": "Mohammad Arabzadeh",
      "photoUrl": "https://lh3.googleusercontent.com/a-/AOh14GjXkRiRkX2DO4nors8f63HDnft3XkirIOkrC2DN3A=s64",
      "userId": "16380365560082366556"
     },
     "user_tz": -270
    },
    "id": "ebbbfb88",
    "outputId": "5eb86c34-a53f-4142-fd40-7aea61fc409e"
   },
   "outputs": [
    {
     "name": "stdout",
     "output_type": "stream",
     "text": [
      "(10000, 3072)\n"
     ]
    }
   ],
   "source": [
    "print(data_raw.shape)"
   ]
  },
  {
   "cell_type": "markdown",
   "id": "0cb66947",
   "metadata": {
    "id": "0cb66947"
   },
   "source": [
    "3072 = 32 x 32 x 3   \n",
    "First and second 32 are height and width of the image, and 3 is the number of channels (which are red, green, and blue).  \n",
    "We need to first reshape the image data into a (width x height x num_channel) shape for *matplotlib* to recognize the images. We'll do this in the next part"
   ]
  },
  {
   "cell_type": "markdown",
   "id": "389055d6",
   "metadata": {
    "id": "389055d6"
   },
   "source": [
    "#### Taking a Look at the Images"
   ]
  },
  {
   "cell_type": "markdown",
   "id": "N_RWzEwHDxSG",
   "metadata": {
    "id": "N_RWzEwHDxSG"
   },
   "source": [
    "As said before, we need to reshape the data first: "
   ]
  },
  {
   "cell_type": "code",
   "execution_count": 11,
   "id": "2448b23b",
   "metadata": {
    "colab": {
     "base_uri": "https://localhost:8080/"
    },
    "executionInfo": {
     "elapsed": 15,
     "status": "ok",
     "timestamp": 1628366693352,
     "user": {
      "displayName": "Mohammad Arabzadeh",
      "photoUrl": "https://lh3.googleusercontent.com/a-/AOh14GjXkRiRkX2DO4nors8f63HDnft3XkirIOkrC2DN3A=s64",
      "userId": "16380365560082366556"
     },
     "user_tz": -270
    },
    "id": "2448b23b",
    "outputId": "e34699e8-b5e5-4a1e-901c-ba0c958fdd10",
    "scrolled": true
   },
   "outputs": [
    {
     "name": "stdout",
     "output_type": "stream",
     "text": [
      "New shape = (10000, 32, 32, 3) = (img_idx, width, height, num_channel)\n"
     ]
    }
   ],
   "source": [
    "data_reshaped = data_raw.reshape(-1, 3, 32, 32).transpose(0, 2, 3, 1)\n",
    "\n",
    "print(\"New shape =\", data_reshaped.shape, \"= (img_idx, width, height, num_channel)\")"
   ]
  },
  {
   "cell_type": "markdown",
   "id": "YAw4VJLrD3dJ",
   "metadata": {
    "id": "YAw4VJLrD3dJ"
   },
   "source": [
    "Now we can take a peak at some of the images in the dataset: "
   ]
  },
  {
   "cell_type": "code",
   "execution_count": 12,
   "id": "5cc80cf0",
   "metadata": {
    "colab": {
     "base_uri": "https://localhost:8080/",
     "height": 0
    },
    "executionInfo": {
     "elapsed": 16,
     "status": "ok",
     "timestamp": 1628366693354,
     "user": {
      "displayName": "Mohammad Arabzadeh",
      "photoUrl": "https://lh3.googleusercontent.com/a-/AOh14GjXkRiRkX2DO4nors8f63HDnft3XkirIOkrC2DN3A=s64",
      "userId": "16380365560082366556"
     },
     "user_tz": -270
    },
    "id": "5cc80cf0",
    "outputId": "d4f10cd3-8fd7-4c84-b075-1b525aa4d9c4"
   },
   "outputs": [
    {
     "name": "stdout",
     "output_type": "stream",
     "text": [
      "(32, 32, 3)\n"
     ]
    },
    {
     "data": {
      "text/plain": [
       "<matplotlib.image.AxesImage at 0x7f5897446f50>"
      ]
     },
     "execution_count": 12,
     "metadata": {
      "tags": []
     },
     "output_type": "execute_result"
    },
    {
     "data": {
      "image/png": "[encoded data removed]",
      "text/plain": [
       "<Figure size 432x288 with 1 Axes>"
      ]
     },
     "metadata": {
      "needs_background": "light",
      "tags": []
     },
     "output_type": "display_data"
    }
   ],
   "source": [
    "sample_img = data_reshaped[1000]\n",
    "print(sample_img.shape)\n",
    "\n",
    "plt.imshow(np.array(data_reshaped[1000:1004].reshape(32*4,32,3), dtype='uint8'))"
   ]
  },
  {
   "cell_type": "markdown",
   "id": "fa2a1635",
   "metadata": {
    "id": "fa2a1635"
   },
   "source": [
    "### Pre-Processing the Data"
   ]
  },
  {
   "cell_type": "markdown",
   "id": "5ec0f167",
   "metadata": {
    "id": "5ec0f167"
   },
   "source": [
    "#### One hot encoding"
   ]
  },
  {
   "cell_type": "code",
   "execution_count": 13,
   "id": "95a44f85",
   "metadata": {
    "colab": {
     "base_uri": "https://localhost:8080/"
    },
    "executionInfo": {
     "elapsed": 13,
     "status": "ok",
     "timestamp": 1628366693354,
     "user": {
      "displayName": "Mohammad Arabzadeh",
      "photoUrl": "https://lh3.googleusercontent.com/a-/AOh14GjXkRiRkX2DO4nors8f63HDnft3XkirIOkrC2DN3A=s64",
      "userId": "16380365560082366556"
     },
     "user_tz": -270
    },
    "id": "95a44f85",
    "outputId": "13fb9480-052b-4373-c8a0-5e155421847b",
    "scrolled": true
   },
   "outputs": [
    {
     "name": "stdout",
     "output_type": "stream",
     "text": [
      "[6 9 9 4 1 1 2 7 8 3]\n",
      "[[0. 0. 0. 0. 0. 0. 1. 0. 0. 0.]\n",
      " [0. 0. 0. 0. 0. 0. 0. 0. 0. 1.]\n",
      " [0. 0. 0. 0. 0. 0. 0. 0. 0. 1.]\n",
      " [0. 0. 0. 0. 1. 0. 0. 0. 0. 0.]\n",
      " [0. 1. 0. 0. 0. 0. 0. 0. 0. 0.]\n",
      " [0. 1. 0. 0. 0. 0. 0. 0. 0. 0.]\n",
      " [0. 0. 1. 0. 0. 0. 0. 0. 0. 0.]\n",
      " [0. 0. 0. 0. 0. 0. 0. 1. 0. 0.]\n",
      " [0. 0. 0. 0. 0. 0. 0. 0. 1. 0.]\n",
      " [0. 0. 0. 1. 0. 0. 0. 0. 0. 0.]]\n"
     ]
    }
   ],
   "source": [
    "labels = np.zeros((len(labels_raw), len(meta)))\n",
    "    \n",
    "for idx, val in enumerate(labels_raw):\n",
    "    labels[idx][val] = 1\n",
    "\n",
    "print(labels_raw[0:10])\n",
    "print(labels[0:10])"
   ]
  },
  {
   "cell_type": "markdown",
   "id": "MYYxJqwg1SKK",
   "metadata": {
    "id": "MYYxJqwg1SKK"
   },
   "source": [
    "#### Gray Scaling"
   ]
  },
  {
   "cell_type": "markdown",
   "id": "x4TsONCOyJ2E",
   "metadata": {
    "id": "x4TsONCOyJ2E"
   },
   "source": [
    "The classes of this dataset seems to be less dependant on the colors of the images. Also by training the model with colored images and comparing to the model with the model trained by the gray-scaled images, I realized that they perform somewhat similar to each other. So in order to have a less complex model, I decided to use the gray-scaled images. "
   ]
  },
  {
   "cell_type": "code",
   "execution_count": 14,
   "id": "1EQM36DP1N4X",
   "metadata": {
    "colab": {
     "base_uri": "https://localhost:8080/"
    },
    "executionInfo": {
     "elapsed": 13,
     "status": "ok",
     "timestamp": 1628366693355,
     "user": {
      "displayName": "Mohammad Arabzadeh",
      "photoUrl": "https://lh3.googleusercontent.com/a-/AOh14GjXkRiRkX2DO4nors8f63HDnft3XkirIOkrC2DN3A=s64",
      "userId": "16380365560082366556"
     },
     "user_tz": -270
    },
    "id": "1EQM36DP1N4X",
    "outputId": "33074a98-4103-4af5-905f-a7f53dbbf073"
   },
   "outputs": [
    {
     "name": "stdout",
     "output_type": "stream",
     "text": [
      "(10000, 1024)\n",
      "[ 61.33333333  44.66666667  47.         ... 180.         117.66666667\n",
      "  95.66666667]\n"
     ]
    }
   ],
   "source": [
    "def gray_scale(raw):\n",
    "    return raw.reshape(-1, 3, 1024).mean(axis=1)\n",
    "\n",
    "data_gray = gray_scale(data_raw) \n",
    "\n",
    "print(data_gray.shape)\n",
    "print(data_gray[0])"
   ]
  },
  {
   "cell_type": "markdown",
   "id": "lan-rMVuqrrD",
   "metadata": {
    "id": "lan-rMVuqrrD"
   },
   "source": [
    "#### Resizing to 16x16"
   ]
  },
  {
   "cell_type": "markdown",
   "id": "ualSIqI5zMxM",
   "metadata": {
    "id": "ualSIqI5zMxM"
   },
   "source": [
    "Using the 32x32 images for the model, I realized that assigning an adequate value to the number of hidden layer neurons is too frustrating; increasing or decreasing the number of neurons didn't seem to have forsighted outcomes. Maybe this was a result of the features being too complex for an MLP model. So in order to achieve more simplification, I decided to downsize the images to 16x16. "
   ]
  },
  {
   "cell_type": "code",
   "execution_count": 15,
   "id": "r6n_-zJaqrH1",
   "metadata": {
    "executionInfo": {
     "elapsed": 11780,
     "status": "ok",
     "timestamp": 1628366705124,
     "user": {
      "displayName": "Mohammad Arabzadeh",
      "photoUrl": "https://lh3.googleusercontent.com/a-/AOh14GjXkRiRkX2DO4nors8f63HDnft3XkirIOkrC2DN3A=s64",
      "userId": "16380365560082366556"
     },
     "user_tz": -270
    },
    "id": "r6n_-zJaqrH1"
   },
   "outputs": [],
   "source": [
    "from skimage.transform import resize\n",
    "def resize_32_to_16(raw):\n",
    "    reshaped = raw.reshape(-1, 32, 32)\n",
    "    data_16 = np.empty((reshaped.shape[0], 16, 16))\n",
    "    for idx, val in enumerate(reshaped):\n",
    "        data_16[idx] = resize(val, (16, 16))\n",
    "    return data_16.reshape(-1, 16*16)\n",
    "\n",
    "\n",
    "data_16 = resize_32_to_16(data_gray)"
   ]
  },
  {
   "cell_type": "code",
   "execution_count": 16,
   "id": "fEyJxYlh2x4j",
   "metadata": {
    "colab": {
     "base_uri": "https://localhost:8080/"
    },
    "executionInfo": {
     "elapsed": 23,
     "status": "ok",
     "timestamp": 1628366705130,
     "user": {
      "displayName": "Mohammad Arabzadeh",
      "photoUrl": "https://lh3.googleusercontent.com/a-/AOh14GjXkRiRkX2DO4nors8f63HDnft3XkirIOkrC2DN3A=s64",
      "userId": "16380365560082366556"
     },
     "user_tz": -270
    },
    "id": "fEyJxYlh2x4j",
    "outputId": "7d864958-2191-4009-f5ca-c8a1528ea038"
   },
   "outputs": [
    {
     "name": "stdout",
     "output_type": "stream",
     "text": [
      "(10000, 256)\n"
     ]
    }
   ],
   "source": [
    "print(data_16.shape)"
   ]
  },
  {
   "cell_type": "markdown",
   "id": "j4JgRapXCjUw",
   "metadata": {
    "id": "j4JgRapXCjUw"
   },
   "source": [
    "#### Normalization"
   ]
  },
  {
   "cell_type": "markdown",
   "id": "JfMQW59Q0sWy",
   "metadata": {
    "id": "JfMQW59Q0sWy"
   },
   "source": [
    "Normalization is an inevitable step for training any dataset on an MLP model. For this data set, I used per-image global centering and standardization method to normalize the data. [[Image normalization methods](https://machinelearningmastery.com/how-to-manually-scale-image-pixel-data-for-deep-learning/)]"
   ]
  },
  {
   "cell_type": "code",
   "execution_count": 17,
   "id": "Pco0jEcoCiTW",
   "metadata": {
    "executionInfo": {
     "elapsed": 20,
     "status": "ok",
     "timestamp": 1628366705130,
     "user": {
      "displayName": "Mohammad Arabzadeh",
      "photoUrl": "https://lh3.googleusercontent.com/a-/AOh14GjXkRiRkX2DO4nors8f63HDnft3XkirIOkrC2DN3A=s64",
      "userId": "16380365560082366556"
     },
     "user_tz": -270
    },
    "id": "Pco0jEcoCiTW"
   },
   "outputs": [],
   "source": [
    "def normalize(raw):\n",
    "    return (raw - raw.mean(axis=0)) / raw.std(axis=0)\n",
    "\n",
    "data_16_norm = normalize(data_16)"
   ]
  },
  {
   "cell_type": "markdown",
   "id": "5b2d6ea9",
   "metadata": {
    "id": "5b2d6ea9"
   },
   "source": [
    "### Train-Validation Split"
   ]
  },
  {
   "cell_type": "code",
   "execution_count": 18,
   "id": "7242bf75",
   "metadata": {
    "executionInfo": {
     "elapsed": 20,
     "status": "ok",
     "timestamp": 1628366705130,
     "user": {
      "displayName": "Mohammad Arabzadeh",
      "photoUrl": "https://lh3.googleusercontent.com/a-/AOh14GjXkRiRkX2DO4nors8f63HDnft3XkirIOkrC2DN3A=s64",
      "userId": "16380365560082366556"
     },
     "user_tz": -270
    },
    "id": "7242bf75"
   },
   "outputs": [],
   "source": [
    "def shuffle(x, y):\n",
    "    inx = np.random.permutation(x.shape[0])\n",
    "    return x[inx], y[inx]"
   ]
  },
  {
   "cell_type": "code",
   "execution_count": 19,
   "id": "76d651ef",
   "metadata": {
    "executionInfo": {
     "elapsed": 20,
     "status": "ok",
     "timestamp": 1628366705131,
     "user": {
      "displayName": "Mohammad Arabzadeh",
      "photoUrl": "https://lh3.googleusercontent.com/a-/AOh14GjXkRiRkX2DO4nors8f63HDnft3XkirIOkrC2DN3A=s64",
      "userId": "16380365560082366556"
     },
     "user_tz": -270
    },
    "id": "76d651ef"
   },
   "outputs": [],
   "source": [
    "def split(x, y, train_ratio):\n",
    "    split = int(x.shape[0] * train_ratio)\n",
    "    return x[:split], x[split:], y[:split], y[split:]"
   ]
  },
  {
   "cell_type": "code",
   "execution_count": 20,
   "id": "2cf3be33",
   "metadata": {
    "executionInfo": {
     "elapsed": 19,
     "status": "ok",
     "timestamp": 1628366705131,
     "user": {
      "displayName": "Mohammad Arabzadeh",
      "photoUrl": "https://lh3.googleusercontent.com/a-/AOh14GjXkRiRkX2DO4nors8f63HDnft3XkirIOkrC2DN3A=s64",
      "userId": "16380365560082366556"
     },
     "user_tz": -270
    },
    "id": "2cf3be33"
   },
   "outputs": [],
   "source": [
    "X, Y = shuffle(data_16_norm, labels)\n",
    "\n",
    "X_train, X_val, Y_train, Y_val = split(X, Y, 0.9)"
   ]
  },
  {
   "cell_type": "code",
   "execution_count": 21,
   "id": "d5d25112",
   "metadata": {
    "colab": {
     "base_uri": "https://localhost:8080/"
    },
    "executionInfo": {
     "elapsed": 19,
     "status": "ok",
     "timestamp": 1628366705131,
     "user": {
      "displayName": "Mohammad Arabzadeh",
      "photoUrl": "https://lh3.googleusercontent.com/a-/AOh14GjXkRiRkX2DO4nors8f63HDnft3XkirIOkrC2DN3A=s64",
      "userId": "16380365560082366556"
     },
     "user_tz": -270
    },
    "id": "d5d25112",
    "outputId": "32719999-74b0-423b-e18b-224b1ed08cf5"
   },
   "outputs": [
    {
     "name": "stdout",
     "output_type": "stream",
     "text": [
      "(9000, 256)\n",
      "(1000, 256)\n",
      "(9000, 10)\n",
      "(1000, 10)\n"
     ]
    }
   ],
   "source": [
    "print(X_train.shape)\n",
    "print(X_val.shape)\n",
    "print(Y_train.shape)\n",
    "print(Y_val.shape)"
   ]
  },
  {
   "cell_type": "markdown",
   "id": "j3DvObfu5VWq",
   "metadata": {
    "id": "j3DvObfu5VWq"
   },
   "source": [
    "#### Augmentation: Adding horizontally flipped images to the training dataset"
   ]
  },
  {
   "cell_type": "markdown",
   "id": "EFwU11bOxl_N",
   "metadata": {
    "id": "EFwU11bOxl_N"
   },
   "source": [
    "Comparing the results of some models with and without augmented training datasets, I came to a conclusion that the model perform better in terms of loss values if the augmented training set is used. "
   ]
  },
  {
   "cell_type": "code",
   "execution_count": 22,
   "id": "WkyNYXCF5arS",
   "metadata": {
    "executionInfo": {
     "elapsed": 19,
     "status": "ok",
     "timestamp": 1628366705132,
     "user": {
      "displayName": "Mohammad Arabzadeh",
      "photoUrl": "https://lh3.googleusercontent.com/a-/AOh14GjXkRiRkX2DO4nors8f63HDnft3XkirIOkrC2DN3A=s64",
      "userId": "16380365560082366556"
     },
     "user_tz": -270
    },
    "id": "WkyNYXCF5arS"
   },
   "outputs": [],
   "source": [
    "def augment(x, y):\n",
    "    x_reshaped = x.reshape(-1, 16, 16)\n",
    "    x_flipped = np.flip(x_reshaped, axis=2)\n",
    "    x_re_reshaped = x_flipped.reshape(-1, 16*16)\n",
    "    return np.append(x, x_re_reshaped, axis=0), np.append(y, y, axis=0)"
   ]
  },
  {
   "cell_type": "code",
   "execution_count": 23,
   "id": "aJvRdyQF8IZl",
   "metadata": {
    "colab": {
     "base_uri": "https://localhost:8080/"
    },
    "executionInfo": {
     "elapsed": 18,
     "status": "ok",
     "timestamp": 1628366705132,
     "user": {
      "displayName": "Mohammad Arabzadeh",
      "photoUrl": "https://lh3.googleusercontent.com/a-/AOh14GjXkRiRkX2DO4nors8f63HDnft3XkirIOkrC2DN3A=s64",
      "userId": "16380365560082366556"
     },
     "user_tz": -270
    },
    "id": "aJvRdyQF8IZl",
    "outputId": "410cc0a7-8bc0-4651-8da6-085355a5ce0f"
   },
   "outputs": [
    {
     "name": "stdout",
     "output_type": "stream",
     "text": [
      "(18000, 256) (18000, 10)\n"
     ]
    }
   ],
   "source": [
    "X_train_aug, Y_train_aug = augment(X_train, Y_train)\n",
    "\n",
    "print(X_train_aug.shape, Y_train_aug.shape)"
   ]
  },
  {
   "cell_type": "markdown",
   "id": "657f889b",
   "metadata": {
    "id": "657f889b"
   },
   "source": [
    "### Model and Hyperparameter Tuning"
   ]
  },
  {
   "cell_type": "markdown",
   "id": "mZbXu4jUF408",
   "metadata": {
    "id": "mZbXu4jUF408"
   },
   "source": [
    "#### First Layer"
   ]
  },
  {
   "cell_type": "markdown",
   "id": "ZZVFCOe6F8Mg",
   "metadata": {
    "id": "ZZVFCOe6F8Mg"
   },
   "source": [
    "To tune the hyperparameters for the first layer, these constants were used: \n",
    "- ReLU activation function\n",
    "- Adam optimizer with learning_rate=0.0003 \n",
    "- epochs=50  \n",
    "- batch_size=32  \n",
    "\n",
    "Also in all the tables, d:0.1 means Dropout layer with 'rate'=0.1  \n",
    "\n",
    "|Layers              |Train Acc|Val Acc|Train Loss|Val Loss|Val Loss Trend\n",
    "|:-------------------|:--------|:------|:---------|:-------|:-----\n",
    "|[1000]              |0.94     |0.40   |0.25      |1.80    |Increasing\n",
    "|[d:0.5, 1000]       |0.49     |0.40   |1.49      |1.79    |Relatively fixed\n",
    "|[1000, d:0.5]       |0.64     |0.44   |1.06      |1.70    |Relatively increasing (overfit)\n",
    "|[d:0.8, 1000]       |0.35     |0.29   |1.83      |2.16    |Increasing\n",
    "|[d:0.5, 2000]       |0.49     |0.41   |1.47      |1.78    |Unstable\n",
    "|[500]               |0.86     |0.39   |0.48      |1.75    |Increasing\n",
    "|[d:0.4, 500]        |0.51     |0.41   |1.40      |1.80    |Relatively fixed\n",
    "|[500, d:0.4]        |0.61     |0.42   |1.13      |1.70    |Relatively increasing (overfit)\n",
    "|[d:0.4, 300]        |0.49     |0.39   |1.46      |1.76    |Relatively fixed\n",
    "|[300, d:0.4]        |0.55     |0.42   |1.28      |1.70    |Fixed (overfit)\n",
    "|[200, d:0.2]        |0.59     |0.42   |1.20      |1.70    |Fixed (overfit)\n",
    "|[d:0.4, 200]        |0.48     |0.40   |1.49      |1.74    |Fixed\n",
    "|[200, d:0.4]        |0.52     |0.41   |1.38      |1.71    |Fixed\n",
    "|[d:0.2, 200, d:0.4] |0.44     |0.40   |1.60      |1.70    |Relatively decreasing\n",
    "|[d:0.3, 200, d:0.4] |0.42     |0.40   |1.66      |1.72    |Relatively fixed\n",
    "|[d:0.1, 200, d:0.5] |0.44     |0.41   |1.60      |1.70    |Relatively fixed\n",
    "|[d:0.2, 100, d:0.4] |0.40     |0.40   |1.70      |1.74    |Relatively decreasing\n",
    "|[d:0.1, 100, d:0.4] |0.41     |0.41   |1.65      |1.72    |Relatively decreasing\n",
    "|[d:0.1, 100, d:0.5] |0.40     |0.39   |1.72      |1.75    |Decreasing\n",
    "|[d:0.1, 100, d:0.6] |0.37     |0.37   |1.78      |1.77    |Decreasing\n",
    "|[d:0.05, 50, d:0.2] |0.42     |0.38   |1.63      |1.78    |Fixed\n",
    "|[d:0.1, 150, d:0.4] |0.45     |0.40   |1.58      |1.71    |Fixed\n",
    "|[d:0.1, 150, d:0.3] |0.47     |0.41   |1.52      |1.70    |Fixed\n",
    "|[d:0.1, 150, d:0.5] |0.42     |0.39   |1.64      |1.73    |Fixed\n",
    "\n",
    "Candidates for the next part are [d:0.2, 100, d:0.4], [d:0.1, 100, d:0.5], and [d:0.1, 150, d:0.4]. "
   ]
  },
  {
   "cell_type": "markdown",
   "id": "wctiE0_EHDvV",
   "metadata": {
    "id": "wctiE0_EHDvV"
   },
   "source": [
    "#### Activations Functions"
   ]
  },
  {
   "cell_type": "markdown",
   "id": "2HAV7IDDHI78",
   "metadata": {
    "id": "2HAV7IDDHI78"
   },
   "source": [
    "Now we'll train each model with different activation functions for 200 epochs and compare their performance. \n",
    "\n",
    "|Layers             |Func|Train Acc|Val Acc|Train Loss|Val Loss|Val Loss Trend\n",
    "|:------------------|:---|:--------|:------|:---------|:-------|:-----\n",
    "|[d:0.2, 100, d:0.4]|ReLU|0.42     |0.40   |1.64      |1.71    |Fixed after 75 epoch\n",
    "|[d:0.2, 100, d:0.4]|SMax|0.41     |0.37   |1.68      |1.82    |Fixed after 130 epoch\n",
    "|[d:0.2, 100, d:0.4]|Tanh|0.39     |0.37   |1.72      |1.77    |Fixed after 150 epoch\n",
    "|[d:0.1, 100, d:0.5]|ReLU|0.41     |0.40   |1.64      |1.73    |Fixed after 60 epoch\n",
    "|[d:0.1, 100, d:0.5]|SMax|0.40     |0.37   |1.68      |1.83    |Fixed after 130 epoch\n",
    "|[d:0.1, 100, d:0.5]|Tanh|0.38     |0.37   |1.75      |1.78    |Fixed after 160 epoch\n",
    "|[d:0.1, 150, d:0.4]|ReLU|0.49     |0.41   |1.46      |1.73    |Fixed after 75 epoch\n",
    "|[d:0.1, 150, d:0.4]|SMax|0.46     |0.36   |1.53      |1.84    |Increasing after 80 epoch\n",
    "|[d:0.1, 150, d:0.4]|Tanh|0.44     |0.38   |1.59      |1.74    |Fixed after 130 epoch\n",
    "\n",
    "ReLU gives the best results for all architectures. Also, [d:0.2, 100, d:0.4] has the best results between others; so we'll only use this for the next models."
   ]
  },
  {
   "cell_type": "markdown",
   "id": "j9MmsGy9HdO3",
   "metadata": {
    "id": "j9MmsGy9HdO3"
   },
   "source": [
    "#### Optimizers"
   ]
  },
  {
   "cell_type": "markdown",
   "id": "RSDJEHMvHrI4",
   "metadata": {
    "id": "RSDJEHMvHrI4"
   },
   "source": [
    "Now we'll test different optimizers and learning rates.  \n",
    "layer = [d:0.2, 100, d:0.4] relu  \n",
    "epochs = 200  \n",
    "\n",
    "|Optimizer|L-Rate|Train Acc|Val Acc|Train Loss|Val Loss|Notes\n",
    "|:--------|:-----|:--------|:------|:---------|:-------|:-----\n",
    "|Adam     |0.0003|0.42     |0.39   |1.64      |1.74    |Small fluctuations in train and val\n",
    "|Adam     |0.0001|0.41     |0.38   |1.67      |1.72    |Smooth val curve, little fluctuations in train\n",
    "|SGD      |0.006 |0.40     |0.40   |1.70      |1.72    |Little fluctuations in train\n",
    "|Adagrad  |0.01  |0.40     |0.38   |1.70      |1.74    |Little fluctuations in train\n",
    "|Adadelta |0.3   |0.42     |0.39   |1.64      |1.74    |Relatively smooth curves, val loss a little increasing after 100 epochs\n",
    "|Adadelta |0.1   |0.42     |0.41   |1.66      |1.72    |Good curves (little fluctuations)\n",
    "|RMSprop  |0.0001|0.41     |0.40   |1.68      |1.74    |Good curves (little fluctuations)\n",
    "\n",
    "Adadelta with 0.1 learning rate seems to be better than others. Let's see other learning rates for this optimizer (after 200 epochs): \n",
    "\n",
    "|Optimizer|L-Rate|Train Acc|Val Acc|Train Loss|Val Loss|Notes\n",
    "|:--------|:-----|:--------|:------|:---------|:-------|:-----\n",
    "|Adadelta |0.1   |0.42     |0.41   |1.66      |1.72    |Good curves (little fluctuations)\n",
    "|Adadelta |1     |0.42     |0.40   |1.67      |1.77    |Too much fluctuations, increasing val loss\n",
    "|Adadelta |0.01  |0.32     |0.34   |1.92      |1.87    |Too slow\n",
    "\n",
    "Based on the results, the best optimizer is Adadelta with learning_rate=0.1. "
   ]
  },
  {
   "cell_type": "markdown",
   "id": "bJGZvfFiH_NG",
   "metadata": {
    "id": "bJGZvfFiH_NG"
   },
   "source": [
    "#### Adding a New Layer"
   ]
  },
  {
   "cell_type": "markdown",
   "id": "cBOSiWygIW5B",
   "metadata": {
    "id": "cBOSiWygIW5B"
   },
   "source": [
    "Now we'll add a new layer after the [d:0.2, 100, d:0.4] and see the performance after 200 epochs: \n",
    "\n",
    "|New Layers         |Train Acc|Val Acc|Train Loss|Val Loss|Val Loss Trend\n",
    "|:------------------|:--------|:------|:---------|:-------|:-----\n",
    "|Without new layers |0.42     |0.41   |1.66      |1.72    |Fixed\n",
    "|[100]              |0.44     |0.41   |1.58      |1.69    |Fixed (a little overfit)\n",
    "|[50]               |0.43     |0.40   |1.61      |1.70    |Fixed (a little overfit)\n",
    "|[200]              |0.45     |0.41   |1.54      |1.67    |Fixed (overfit)\n",
    "|[400]              |0.47     |0.39   |1.50      |1.70    |Fixed (overfit)\n",
    "|[500, d:0.5]       |0.43     |0.40   |1.62      |1.65    |Fluctuations\n",
    "\n",
    "It seems that adding new layers don't affect the performance too much. So We'll stick with the old architecture."
   ]
  },
  {
   "cell_type": "markdown",
   "id": "268XwSX0IZT2",
   "metadata": {
    "id": "268XwSX0IZT2"
   },
   "source": [
    "#### Epochs and Batch Size"
   ]
  },
  {
   "cell_type": "markdown",
   "id": "y5YaHN-v3Jqv",
   "metadata": {
    "id": "y5YaHN-v3Jqv"
   },
   "source": [
    "  \n",
    "Now we'll find the optimum values for epochs and batch size.  \n",
    "\n",
    "|Epochs|Batch Size|Train Acc|Val Acc|Train Loss|Val Loss|Notes\n",
    "|:-----|:---------|:--------|:------|:---------|:-------|:-----\n",
    "|200   |32        |0.42     |0.41   |1.66      |1.72    |\n",
    "|200   |64        |0.41     |0.40   |1.70      |1.70    |\n",
    "|200   |16        |0.41     |0.41   |1.67      |1.70    |\n",
    "|200   |128       |0.40     |0.40   |1.72      |1.71    |\n",
    "|400   |128       |0.41     |0.40   |1.67      |1.69    |After 250 epochs, there's not much change in val loss\n",
    "|400   |64        |0.42     |0.41   |1.64      |1.69    |After 350 epochs, there's not much change in val loss\n",
    "|350   |64        |0.42     |0.40   |1.65      |1.69    |\n",
    "|300   |32        |0.42     |0.39   |1.64      |1.69    |\n",
    "\n",
    "The best choice is epochs=350 and batch_size=64.  \n",
    "Now we can train the model on all batches of the dataset! "
   ]
  },
  {
   "cell_type": "markdown",
   "id": "Ae6lqv4nIvQU",
   "metadata": {
    "id": "Ae6lqv4nIvQU"
   },
   "source": [
    "#### Final Model"
   ]
  },
  {
   "cell_type": "code",
   "execution_count": 24,
   "id": "1d6be5d4",
   "metadata": {
    "executionInfo": {
     "elapsed": 1719,
     "status": "ok",
     "timestamp": 1628366706834,
     "user": {
      "displayName": "Mohammad Arabzadeh",
      "photoUrl": "https://lh3.googleusercontent.com/a-/AOh14GjXkRiRkX2DO4nors8f63HDnft3XkirIOkrC2DN3A=s64",
      "userId": "16380365560082366556"
     },
     "user_tz": -270
    },
    "id": "1d6be5d4"
   },
   "outputs": [],
   "source": [
    "from tensorflow.keras.models import Sequential\n",
    "from tensorflow.keras.layers import Dense\n",
    "from tensorflow.keras.layers import Dropout\n",
    "\n",
    "from tensorflow.keras.optimizers import Adam\n",
    "from tensorflow.keras.optimizers import SGD\n",
    "from tensorflow.keras.optimizers import Adagrad\n",
    "from tensorflow.keras.optimizers import Adadelta\n",
    "from tensorflow.keras.optimizers import RMSprop"
   ]
  },
  {
   "cell_type": "code",
   "execution_count": 25,
   "id": "YMykWoj4c9nU",
   "metadata": {
    "executionInfo": {
     "elapsed": 8,
     "status": "ok",
     "timestamp": 1628366706839,
     "user": {
      "displayName": "Mohammad Arabzadeh",
      "photoUrl": "https://lh3.googleusercontent.com/a-/AOh14GjXkRiRkX2DO4nors8f63HDnft3XkirIOkrC2DN3A=s64",
      "userId": "16380365560082366556"
     },
     "user_tz": -270
    },
    "id": "YMykWoj4c9nU"
   },
   "outputs": [],
   "source": [
    "def tuned_nn(X_train, Y_train, X_val, Y_val):\n",
    "    ## Model architecture\n",
    "    model = Sequential()\n",
    "    model.add(Dropout(0.2))\n",
    "    model.add(Dense(100, activation='relu', input_dim=256))\n",
    "    model.add(Dropout(0.4))\n",
    "    model.add(Dense(10, activation='softmax'))\n",
    "    \n",
    "    ## Compiling the model\n",
    "    model.compile(optimizer=Adadelta(learning_rate=0.1), loss='categorical_crossentropy', metrics=['acc'])\n",
    "    \n",
    "    ## Fitting the model\n",
    "    hist = model.fit(X_train, Y_train, batch_size=32, epochs=300, validation_data=(X_val, Y_val))\n",
    "    return hist, model"
   ]
  },
  {
   "cell_type": "markdown",
   "id": "HYwTHiqsJJjp",
   "metadata": {
    "id": "HYwTHiqsJJjp"
   },
   "source": [
    "## 2. Training the Model"
   ]
  },
  {
   "cell_type": "markdown",
   "id": "kfLcxLmZVFUL",
   "metadata": {
    "id": "kfLcxLmZVFUL"
   },
   "source": [
    "### Importing All Batches"
   ]
  },
  {
   "cell_type": "code",
   "execution_count": 26,
   "id": "AieeNx4XVmKo",
   "metadata": {
    "colab": {
     "base_uri": "https://localhost:8080/"
    },
    "executionInfo": {
     "elapsed": 9,
     "status": "ok",
     "timestamp": 1628366706840,
     "user": {
      "displayName": "Mohammad Arabzadeh",
      "photoUrl": "https://lh3.googleusercontent.com/a-/AOh14GjXkRiRkX2DO4nors8f63HDnft3XkirIOkrC2DN3A=s64",
      "userId": "16380365560082366556"
     },
     "user_tz": -270
    },
    "id": "AieeNx4XVmKo",
    "outputId": "92cfc07b-61ea-434a-bec3-ad9d5050d6a3"
   },
   "outputs": [
    {
     "name": "stdout",
     "output_type": "stream",
     "text": [
      "{b'num_cases_per_batch': 10000, b'label_names': [b'airplane', b'automobile', b'bird', b'cat', b'deer', b'dog', b'frog', b'horse', b'ship', b'truck'], b'num_vis': 3072}\n"
     ]
    }
   ],
   "source": [
    "meta_dict = unpickle('/content/drive/MyDrive/AIMedic/proj_2/batches.meta')\n",
    "print(meta_dict)"
   ]
  },
  {
   "cell_type": "code",
   "execution_count": 27,
   "id": "EtTKnCLgVMFM",
   "metadata": {
    "executionInfo": {
     "elapsed": 511,
     "status": "ok",
     "timestamp": 1628366707344,
     "user": {
      "displayName": "Mohammad Arabzadeh",
      "photoUrl": "https://lh3.googleusercontent.com/a-/AOh14GjXkRiRkX2DO4nors8f63HDnft3XkirIOkrC2DN3A=s64",
      "userId": "16380365560082366556"
     },
     "user_tz": -270
    },
    "id": "EtTKnCLgVMFM"
   },
   "outputs": [],
   "source": [
    "data_dict_1 = unpickle('/content/drive/MyDrive/AIMedic/proj_2/data_batch_1')\n",
    "data_dict_2 = unpickle('/content/drive/MyDrive/AIMedic/proj_2/data_batch_2')\n",
    "data_dict_3 = unpickle('/content/drive/MyDrive/AIMedic/proj_2/data_batch_3')\n",
    "data_dict_4 = unpickle('/content/drive/MyDrive/AIMedic/proj_2/data_batch_4')\n",
    "data_dict_5 = unpickle('/content/drive/MyDrive/AIMedic/proj_2/data_batch_5')\n",
    "\n",
    "test_dict = unpickle('/content/drive/MyDrive/AIMedic/proj_2/test_batch')"
   ]
  },
  {
   "cell_type": "markdown",
   "id": "OcElTfLwV0tZ",
   "metadata": {
    "id": "OcElTfLwV0tZ"
   },
   "source": [
    "### Storing the Data"
   ]
  },
  {
   "cell_type": "code",
   "execution_count": 28,
   "id": "G65M5SdkV-00",
   "metadata": {
    "executionInfo": {
     "elapsed": 16,
     "status": "ok",
     "timestamp": 1628366707345,
     "user": {
      "displayName": "Mohammad Arabzadeh",
      "photoUrl": "https://lh3.googleusercontent.com/a-/AOh14GjXkRiRkX2DO4nors8f63HDnft3XkirIOkrC2DN3A=s64",
      "userId": "16380365560082366556"
     },
     "user_tz": -270
    },
    "id": "G65M5SdkV-00"
   },
   "outputs": [],
   "source": [
    "import numpy as np"
   ]
  },
  {
   "cell_type": "code",
   "execution_count": 29,
   "id": "rnL66iysWKLo",
   "metadata": {
    "executionInfo": {
     "elapsed": 16,
     "status": "ok",
     "timestamp": 1628366707345,
     "user": {
      "displayName": "Mohammad Arabzadeh",
      "photoUrl": "https://lh3.googleusercontent.com/a-/AOh14GjXkRiRkX2DO4nors8f63HDnft3XkirIOkrC2DN3A=s64",
      "userId": "16380365560082366556"
     },
     "user_tz": -270
    },
    "id": "rnL66iysWKLo"
   },
   "outputs": [],
   "source": [
    "meta = list(meta_dict[b'label_names'])\n",
    "\n",
    "meta = [item.decode('utf-8') for idx, item in enumerate(meta)]"
   ]
  },
  {
   "cell_type": "code",
   "execution_count": 30,
   "id": "Vy_VlpTiWPz_",
   "metadata": {
    "colab": {
     "base_uri": "https://localhost:8080/"
    },
    "executionInfo": {
     "elapsed": 15,
     "status": "ok",
     "timestamp": 1628366707346,
     "user": {
      "displayName": "Mohammad Arabzadeh",
      "photoUrl": "https://lh3.googleusercontent.com/a-/AOh14GjXkRiRkX2DO4nors8f63HDnft3XkirIOkrC2DN3A=s64",
      "userId": "16380365560082366556"
     },
     "user_tz": -270
    },
    "id": "Vy_VlpTiWPz_",
    "outputId": "c4f2914b-a0ae-4b2f-bd54-34cc09bdaa7c"
   },
   "outputs": [
    {
     "name": "stdout",
     "output_type": "stream",
     "text": [
      "(50000,)\n",
      "[6 9 9 ... 9 1 1]\n"
     ]
    }
   ],
   "source": [
    "labels_raw = np.concatenate([data_dict_1[b'labels'], \n",
    "                             data_dict_2[b'labels'],\n",
    "                             data_dict_3[b'labels'],\n",
    "                             data_dict_4[b'labels'],\n",
    "                             data_dict_5[b'labels']])\n",
    "\n",
    "print(labels_raw.shape)\n",
    "print(labels_raw)"
   ]
  },
  {
   "cell_type": "code",
   "execution_count": 31,
   "id": "vUf_IXkFWcS2",
   "metadata": {
    "colab": {
     "base_uri": "https://localhost:8080/"
    },
    "executionInfo": {
     "elapsed": 14,
     "status": "ok",
     "timestamp": 1628366707346,
     "user": {
      "displayName": "Mohammad Arabzadeh",
      "photoUrl": "https://lh3.googleusercontent.com/a-/AOh14GjXkRiRkX2DO4nors8f63HDnft3XkirIOkrC2DN3A=s64",
      "userId": "16380365560082366556"
     },
     "user_tz": -270
    },
    "id": "vUf_IXkFWcS2",
    "outputId": "f7b594c8-7203-4c95-8e7f-c14eef872ce6"
   },
   "outputs": [
    {
     "name": "stdout",
     "output_type": "stream",
     "text": [
      "(50000, 3072)\n",
      "[ 59  43  50 ... 140  84  72]\n"
     ]
    }
   ],
   "source": [
    "data_raw = np.concatenate([data_dict_1[b'data'], \n",
    "                           data_dict_2[b'data'],\n",
    "                           data_dict_3[b'data'],\n",
    "                           data_dict_4[b'data'],\n",
    "                           data_dict_5[b'data']])\n",
    "\n",
    "print(data_raw.shape)\n",
    "print(data_raw[0])"
   ]
  },
  {
   "cell_type": "code",
   "execution_count": 32,
   "id": "Gz8-wzX7qnMT",
   "metadata": {
    "colab": {
     "base_uri": "https://localhost:8080/"
    },
    "executionInfo": {
     "elapsed": 13,
     "status": "ok",
     "timestamp": 1628366707346,
     "user": {
      "displayName": "Mohammad Arabzadeh",
      "photoUrl": "https://lh3.googleusercontent.com/a-/AOh14GjXkRiRkX2DO4nors8f63HDnft3XkirIOkrC2DN3A=s64",
      "userId": "16380365560082366556"
     },
     "user_tz": -270
    },
    "id": "Gz8-wzX7qnMT",
    "outputId": "6bb55ae8-5200-4686-dbd3-92e6b68e8752"
   },
   "outputs": [
    {
     "name": "stdout",
     "output_type": "stream",
     "text": [
      "(10000,)\n",
      "(10000, 3072)\n"
     ]
    }
   ],
   "source": [
    "test_labels_raw = np.array(data_dict[b'labels'])\n",
    "print(test_labels_raw.shape)\n",
    "\n",
    "test_data_raw = np.array(data_dict[b'data'])\n",
    "print(test_data_raw.shape)"
   ]
  },
  {
   "cell_type": "markdown",
   "id": "5KtlwMxIYb8z",
   "metadata": {
    "id": "5KtlwMxIYb8z"
   },
   "source": [
    "### Pre-Processing"
   ]
  },
  {
   "cell_type": "markdown",
   "id": "qymTX1mKZ88E",
   "metadata": {
    "id": "qymTX1mKZ88E"
   },
   "source": [
    "One hot encoding: "
   ]
  },
  {
   "cell_type": "code",
   "execution_count": 33,
   "id": "5OIwo3vyYPq4",
   "metadata": {
    "colab": {
     "base_uri": "https://localhost:8080/"
    },
    "executionInfo": {
     "elapsed": 13,
     "status": "ok",
     "timestamp": 1628366707347,
     "user": {
      "displayName": "Mohammad Arabzadeh",
      "photoUrl": "https://lh3.googleusercontent.com/a-/AOh14GjXkRiRkX2DO4nors8f63HDnft3XkirIOkrC2DN3A=s64",
      "userId": "16380365560082366556"
     },
     "user_tz": -270
    },
    "id": "5OIwo3vyYPq4",
    "outputId": "95c0c04b-b0c5-4427-a191-20f6672c263c"
   },
   "outputs": [
    {
     "name": "stdout",
     "output_type": "stream",
     "text": [
      "(50000, 10)\n"
     ]
    }
   ],
   "source": [
    "labels = np.zeros((len(labels_raw), len(meta)))\n",
    "    \n",
    "for idx, val in enumerate(labels_raw):\n",
    "    labels[idx][val] = 1\n",
    "\n",
    "print(labels.shape)"
   ]
  },
  {
   "cell_type": "code",
   "execution_count": 34,
   "id": "iZJHHZxbrjxB",
   "metadata": {
    "colab": {
     "base_uri": "https://localhost:8080/"
    },
    "executionInfo": {
     "elapsed": 13,
     "status": "ok",
     "timestamp": 1628366707348,
     "user": {
      "displayName": "Mohammad Arabzadeh",
      "photoUrl": "https://lh3.googleusercontent.com/a-/AOh14GjXkRiRkX2DO4nors8f63HDnft3XkirIOkrC2DN3A=s64",
      "userId": "16380365560082366556"
     },
     "user_tz": -270
    },
    "id": "iZJHHZxbrjxB",
    "outputId": "4b12c133-b683-4abe-ea72-08f848d2ea6f"
   },
   "outputs": [
    {
     "name": "stdout",
     "output_type": "stream",
     "text": [
      "(10000, 10)\n"
     ]
    }
   ],
   "source": [
    "test_labels = np.zeros((len(test_labels_raw), len(meta)))\n",
    "    \n",
    "for idx, val in enumerate(test_labels_raw):\n",
    "    test_labels[idx][val] = 1\n",
    "\n",
    "print(test_labels.shape)"
   ]
  },
  {
   "cell_type": "markdown",
   "id": "204b2fTxZ-WM",
   "metadata": {
    "id": "204b2fTxZ-WM"
   },
   "source": [
    "Gray scaling, resizing and normalization:"
   ]
  },
  {
   "cell_type": "code",
   "execution_count": 35,
   "id": "TyWmcnPgYjRG",
   "metadata": {
    "executionInfo": {
     "elapsed": 56799,
     "status": "ok",
     "timestamp": 1628366764135,
     "user": {
      "displayName": "Mohammad Arabzadeh",
      "photoUrl": "https://lh3.googleusercontent.com/a-/AOh14GjXkRiRkX2DO4nors8f63HDnft3XkirIOkrC2DN3A=s64",
      "userId": "16380365560082366556"
     },
     "user_tz": -270
    },
    "id": "TyWmcnPgYjRG"
   },
   "outputs": [],
   "source": [
    "data_gray = gray_scale(data_raw) \n",
    "data_16 = resize_32_to_16(data_gray)\n",
    "data_16_norm = normalize(data_16)"
   ]
  },
  {
   "cell_type": "code",
   "execution_count": 36,
   "id": "qNow5C4sr2U9",
   "metadata": {
    "executionInfo": {
     "elapsed": 11537,
     "status": "ok",
     "timestamp": 1628366775659,
     "user": {
      "displayName": "Mohammad Arabzadeh",
      "photoUrl": "https://lh3.googleusercontent.com/a-/AOh14GjXkRiRkX2DO4nors8f63HDnft3XkirIOkrC2DN3A=s64",
      "userId": "16380365560082366556"
     },
     "user_tz": -270
    },
    "id": "qNow5C4sr2U9"
   },
   "outputs": [],
   "source": [
    "test_data_gray = gray_scale(test_data_raw) \n",
    "test_data_16 = resize_32_to_16(test_data_gray)\n",
    "test_data_16_norm = normalize(test_data_16)"
   ]
  },
  {
   "cell_type": "markdown",
   "id": "LpDO_r9pcJSV",
   "metadata": {
    "id": "LpDO_r9pcJSV"
   },
   "source": [
    "### Train-Validation Split"
   ]
  },
  {
   "cell_type": "code",
   "execution_count": 37,
   "id": "NThWAn5lcLhr",
   "metadata": {
    "colab": {
     "base_uri": "https://localhost:8080/"
    },
    "executionInfo": {
     "elapsed": 17,
     "status": "ok",
     "timestamp": 1628366775662,
     "user": {
      "displayName": "Mohammad Arabzadeh",
      "photoUrl": "https://lh3.googleusercontent.com/a-/AOh14GjXkRiRkX2DO4nors8f63HDnft3XkirIOkrC2DN3A=s64",
      "userId": "16380365560082366556"
     },
     "user_tz": -270
    },
    "id": "NThWAn5lcLhr",
    "outputId": "168116d5-bfaa-481d-a5cd-b83534d97ee3"
   },
   "outputs": [
    {
     "name": "stdout",
     "output_type": "stream",
     "text": [
      "(49000, 256)\n",
      "(1000, 256)\n",
      "(49000, 10)\n",
      "(1000, 10)\n"
     ]
    }
   ],
   "source": [
    "X, Y = shuffle(data_16_norm, labels)\n",
    "\n",
    "X_train, X_val, Y_train, Y_val = split(X, Y, 0.98)\n",
    "\n",
    "print(X_train.shape)\n",
    "print(X_val.shape)\n",
    "print(Y_train.shape)\n",
    "print(Y_val.shape)"
   ]
  },
  {
   "cell_type": "code",
   "execution_count": 38,
   "id": "Tw6hgNhccrxH",
   "metadata": {
    "colab": {
     "base_uri": "https://localhost:8080/"
    },
    "executionInfo": {
     "elapsed": 15,
     "status": "ok",
     "timestamp": 1628366775663,
     "user": {
      "displayName": "Mohammad Arabzadeh",
      "photoUrl": "https://lh3.googleusercontent.com/a-/AOh14GjXkRiRkX2DO4nors8f63HDnft3XkirIOkrC2DN3A=s64",
      "userId": "16380365560082366556"
     },
     "user_tz": -270
    },
    "id": "Tw6hgNhccrxH",
    "outputId": "125f1a90-bd38-4d51-cc6f-dad7ddb4e4f1"
   },
   "outputs": [
    {
     "name": "stdout",
     "output_type": "stream",
     "text": [
      "(98000, 256) (98000, 10)\n"
     ]
    }
   ],
   "source": [
    "X_train_aug, Y_train_aug = augment(X_train, Y_train)\n",
    "\n",
    "print(X_train_aug.shape, Y_train_aug.shape)"
   ]
  },
  {
   "cell_type": "markdown",
   "id": "SG7Pl26gc0oH",
   "metadata": {
    "id": "SG7Pl26gc0oH"
   },
   "source": [
    "### Model"
   ]
  },
  {
   "cell_type": "markdown",
   "id": "bZLwotSiKAeh",
   "metadata": {
    "id": "bZLwotSiKAeh"
   },
   "source": [
    "The model was trained and saved into the 'cifar10.h5' file with this piece of code using Google Colab. I'll load the model for evaluations. \n",
    "```\n",
    "hist, model = tuned_nn(X_train_aug, Y_train_aug, X_val, Y_val)\n",
    "model.save('/content/drive/MyDrive/AIMedic/proj_2/cifar10.h5')\n",
    "```"
   ]
  },
  {
   "cell_type": "code",
   "execution_count": 39,
   "id": "FowPGjs7KgoB",
   "metadata": {
    "executionInfo": {
     "elapsed": 981,
     "status": "ok",
     "timestamp": 1628366776631,
     "user": {
      "displayName": "Mohammad Arabzadeh",
      "photoUrl": "https://lh3.googleusercontent.com/a-/AOh14GjXkRiRkX2DO4nors8f63HDnft3XkirIOkrC2DN3A=s64",
      "userId": "16380365560082366556"
     },
     "user_tz": -270
    },
    "id": "FowPGjs7KgoB"
   },
   "outputs": [],
   "source": [
    "from tensorflow.keras.models import load_model\n",
    "model = load_model('/content/drive/MyDrive/AIMedic/proj_2/cifar10.h5')"
   ]
  },
  {
   "cell_type": "markdown",
   "id": "1kfy-yg7925a",
   "metadata": {
    "id": "1kfy-yg7925a"
   },
   "source": [
    "## 3. Evaluations"
   ]
  },
  {
   "cell_type": "code",
   "execution_count": 40,
   "id": "ThTEp6dj0ZkO",
   "metadata": {
    "executionInfo": {
     "elapsed": 7,
     "status": "ok",
     "timestamp": 1628366776632,
     "user": {
      "displayName": "Mohammad Arabzadeh",
      "photoUrl": "https://lh3.googleusercontent.com/a-/AOh14GjXkRiRkX2DO4nors8f63HDnft3XkirIOkrC2DN3A=s64",
      "userId": "16380365560082366556"
     },
     "user_tz": -270
    },
    "id": "ThTEp6dj0ZkO"
   },
   "outputs": [],
   "source": [
    "from sklearn.metrics import classification_report\n",
    "from sklearn.metrics import confusion_matrix"
   ]
  },
  {
   "cell_type": "markdown",
   "id": "FG1c8AQBK8XE",
   "metadata": {
    "id": "FG1c8AQBK8XE"
   },
   "source": [
    "Turning the labels back to the original form:"
   ]
  },
  {
   "cell_type": "code",
   "execution_count": 41,
   "id": "6k6bcDod2CeX",
   "metadata": {
    "colab": {
     "base_uri": "https://localhost:8080/"
    },
    "executionInfo": {
     "elapsed": 929,
     "status": "ok",
     "timestamp": 1628366777556,
     "user": {
      "displayName": "Mohammad Arabzadeh",
      "photoUrl": "https://lh3.googleusercontent.com/a-/AOh14GjXkRiRkX2DO4nors8f63HDnft3XkirIOkrC2DN3A=s64",
      "userId": "16380365560082366556"
     },
     "user_tz": -270
    },
    "id": "6k6bcDod2CeX",
    "outputId": "554a78f6-975b-40cc-9263-5ae74b1a2f3c"
   },
   "outputs": [
    {
     "name": "stdout",
     "output_type": "stream",
     "text": [
      "[6 9 9 ... 1 1 5] [6 1 9 ... 9 1 7]\n"
     ]
    }
   ],
   "source": [
    "y_true = test_labels_raw\n",
    "y_pred = model.predict(test_data_16_norm).argmax(axis=1)\n",
    "\n",
    "print(y_true, y_pred)"
   ]
  },
  {
   "cell_type": "markdown",
   "id": "e8mIhhzFLGCn",
   "metadata": {
    "id": "e8mIhhzFLGCn"
   },
   "source": [
    "#### Loss and Accuracy"
   ]
  },
  {
   "cell_type": "code",
   "execution_count": 42,
   "id": "4mhTN8KMqXc0",
   "metadata": {
    "colab": {
     "base_uri": "https://localhost:8080/"
    },
    "executionInfo": {
     "elapsed": 1443,
     "status": "ok",
     "timestamp": 1628366778995,
     "user": {
      "displayName": "Mohammad Arabzadeh",
      "photoUrl": "https://lh3.googleusercontent.com/a-/AOh14GjXkRiRkX2DO4nors8f63HDnft3XkirIOkrC2DN3A=s64",
      "userId": "16380365560082366556"
     },
     "user_tz": -270
    },
    "id": "4mhTN8KMqXc0",
    "outputId": "05d5e50f-a7c7-4f14-b0a1-53d95ac795ee"
   },
   "outputs": [
    {
     "name": "stdout",
     "output_type": "stream",
     "text": [
      "313/313 [==============================] - 1s 2ms/step - loss: 1.5416 - acc: 0.4686\n",
      "\n",
      "Testing loss = 1.54\n",
      "Testing accuracy = 46.86%\n"
     ]
    }
   ],
   "source": [
    "eval = model.evaluate(test_data_16_norm, test_labels)\n",
    "print(\"\\nTesting loss = {:.2f}\".format(eval[0]))\n",
    "print(\"Testing accuracy = {:.2f}%\".format(eval[1]*100))"
   ]
  },
  {
   "cell_type": "markdown",
   "id": "7OF0JhKGLSRC",
   "metadata": {
    "id": "7OF0JhKGLSRC"
   },
   "source": [
    "#### Classification Report"
   ]
  },
  {
   "cell_type": "code",
   "execution_count": 43,
   "id": "imj-P4RZ2rUW",
   "metadata": {
    "colab": {
     "base_uri": "https://localhost:8080/"
    },
    "executionInfo": {
     "elapsed": 5,
     "status": "ok",
     "timestamp": 1628366778996,
     "user": {
      "displayName": "Mohammad Arabzadeh",
      "photoUrl": "https://lh3.googleusercontent.com/a-/AOh14GjXkRiRkX2DO4nors8f63HDnft3XkirIOkrC2DN3A=s64",
      "userId": "16380365560082366556"
     },
     "user_tz": -270
    },
    "id": "imj-P4RZ2rUW",
    "outputId": "ac218049-d0a8-458b-8510-c950180e56ff"
   },
   "outputs": [
    {
     "name": "stdout",
     "output_type": "stream",
     "text": [
      "              precision    recall  f1-score   support\n",
      "\n",
      "    airplane       0.51      0.45      0.48      1005\n",
      "  automobile       0.64      0.47      0.54       974\n",
      "        bird       0.33      0.32      0.33      1032\n",
      "         cat       0.37      0.23      0.28      1016\n",
      "        deer       0.34      0.51      0.41       999\n",
      "         dog       0.47      0.38      0.42       937\n",
      "        frog       0.43      0.69      0.53      1030\n",
      "       horse       0.62      0.50      0.56      1001\n",
      "        ship       0.51      0.60      0.55      1025\n",
      "       truck       0.61      0.53      0.57       981\n",
      "\n",
      "    accuracy                           0.47     10000\n",
      "   macro avg       0.48      0.47      0.47     10000\n",
      "weighted avg       0.48      0.47      0.47     10000\n",
      "\n"
     ]
    }
   ],
   "source": [
    "## Classification report\n",
    "class_rep = classification_report(y_true, y_pred, target_names=meta)\n",
    "\n",
    "print(class_rep)"
   ]
  },
  {
   "cell_type": "markdown",
   "id": "Ub6cT2pzLdI7",
   "metadata": {
    "id": "Ub6cT2pzLdI7"
   },
   "source": [
    "#### Confusion Matrix"
   ]
  },
  {
   "cell_type": "code",
   "execution_count": 44,
   "id": "zQ01lmLuLfdA",
   "metadata": {
    "colab": {
     "base_uri": "https://localhost:8080/",
     "height": 0
    },
    "executionInfo": {
     "elapsed": 861,
     "status": "ok",
     "timestamp": 1628366779853,
     "user": {
      "displayName": "Mohammad Arabzadeh",
      "photoUrl": "https://lh3.googleusercontent.com/a-/AOh14GjXkRiRkX2DO4nors8f63HDnft3XkirIOkrC2DN3A=s64",
      "userId": "16380365560082366556"
     },
     "user_tz": -270
    },
    "id": "zQ01lmLuLfdA",
    "outputId": "0ab5cb68-ac61-4f97-a449-0c62728f569e"
   },
   "outputs": [
    {
     "data": {
      "image/png": "[encoded data removed]",
      "text/plain": [
       "<Figure size 720x720 with 1 Axes>"
      ]
     },
     "metadata": {
      "needs_background": "light",
      "tags": []
     },
     "output_type": "display_data"
    }
   ],
   "source": [
    "## Confusion matrix\n",
    "conf_mat = confusion_matrix(y_true, y_pred)\n",
    "norm_conf_mat = conf_mat.astype('float') / conf_mat.sum(axis=1)[:, np.newaxis]\n",
    "\n",
    "## Plotting\n",
    "fig, ax = plt.subplots(figsize=(10, 10))\n",
    "ax.matshow(norm_conf_mat, cmap=plt.cm.Blues, alpha=0.9)\n",
    "\n",
    "for i in range(norm_conf_mat.shape[0]):\n",
    "    for j in range(norm_conf_mat.shape[1]):\n",
    "        ax.text(x=j, y=i, s=\"{:.2f}\".format(norm_conf_mat[i, j]), va='center', ha='center', size='xx-large')\n",
    "\n",
    "ax.set_xticks(list(range(10)))\n",
    "ax.set_yticks(list(range(10)))\n",
    "ax.set_xticklabels(meta)\n",
    "ax.set_yticklabels(meta)\n",
    "\n",
    "plt.xlabel('Predictions', fontsize=18)\n",
    "plt.ylabel('Actuals', fontsize=18)\n",
    "plt.title('Confusion Matrix', fontsize=18)\n",
    "plt.show()"
   ]
  },
  {
   "cell_type": "markdown",
   "id": "XWC8haBJLodN",
   "metadata": {
    "id": "XWC8haBJLodN"
   },
   "source": [
    "#### Accuracy Per Class"
   ]
  },
  {
   "cell_type": "code",
   "execution_count": 45,
   "id": "1ZHh1I_ILriQ",
   "metadata": {
    "colab": {
     "base_uri": "https://localhost:8080/"
    },
    "executionInfo": {
     "elapsed": 11,
     "status": "ok",
     "timestamp": 1628366779854,
     "user": {
      "displayName": "Mohammad Arabzadeh",
      "photoUrl": "https://lh3.googleusercontent.com/a-/AOh14GjXkRiRkX2DO4nors8f63HDnft3XkirIOkrC2DN3A=s64",
      "userId": "16380365560082366556"
     },
     "user_tz": -270
    },
    "id": "1ZHh1I_ILriQ",
    "outputId": "8ef9005b-98a7-44ee-c6e5-21b6fd169e02"
   },
   "outputs": [
    {
     "name": "stdout",
     "output_type": "stream",
     "text": [
      "             accuracy\n",
      "\n",
      "airplane     0.45\n",
      "automobile   0.47\n",
      "bird         0.32\n",
      "cat          0.23\n",
      "deer         0.51\n",
      "dog          0.38\n",
      "frog         0.69\n",
      "horse        0.50\n",
      "ship         0.60\n",
      "truck        0.53\n"
     ]
    }
   ],
   "source": [
    "## Accuracy Per Class\n",
    "acc = norm_conf_mat.diagonal()\n",
    "\n",
    "## Printing\n",
    "print(\"{:13s}accuracy\\n\".format(''))\n",
    "for idx, val in enumerate(acc):\n",
    "    print(\"{:13s}{:.2f}\".format(meta[idx], val))"
   ]
  },
  {
   "cell_type": "markdown",
   "id": "bIetwaqxMVny",
   "metadata": {
    "id": "bIetwaqxMVny"
   },
   "source": [
    "## 4. Final Notes"
   ]
  },
  {
   "cell_type": "markdown",
   "id": "CdLnlrsNMY1n",
   "metadata": {
    "id": "CdLnlrsNMY1n"
   },
   "source": [
    "Based on my searches, I found three models that used MLP (links are given in the references section). The reported accuracies were 37%, 55%, and 59%. This model was able to somewhat reach these accuracies (46%).  \n",
    "It is obvious that we have to use more complex models than MLP, like CNN. We can see in [this page](https://rodrigob.github.io/are_we_there_yet/build/classification_datasets_results.html#43494641522d3130) that people have been able to achieve above 90% accuracies using more complicated models.  "
   ]
  },
  {
   "cell_type": "markdown",
   "id": "Bllegs5s_5P7",
   "metadata": {
    "id": "Bllegs5s_5P7"
   },
   "source": [
    "## 5. References"
   ]
  },
  {
   "cell_type": "markdown",
   "id": "4e024946",
   "metadata": {
    "id": "4e024946"
   },
   "source": [
    "Some of the references that I used in order to complete this project: \n",
    "- cifar10 with CNN: https://towardsdatascience.com/cifar-10-image-classification-in-tensorflow-5b501f7dc77c  \n",
    "- Normalization: https://machinelearningmastery.com/how-to-manually-scale-image-pixel-data-for-deep-learning/  \n",
    "- ReLu:\n",
    " 1. https://datascience.stackexchange.com/questions/5706/what-is-the-dying-relu-problem-in-neural-networks\n",
    " 2. https://datascience.stackexchange.com/questions/23493/why-relu-is-better-than-the-other-activation-functions\n",
    " 3. input normalization: https://datascience.stackexchange.com/questions/25832/input-normalization-for-relu\n",
    "- NN architechture: \n",
    " 1. https://towardsdatascience.com/beginners-ask-how-many-hidden-layers-neurons-to-use-in-artificial-neural-networks-51466afa0d3e\n",
    " 2. https://stats.stackexchange.com/questions/213478/number-of-neurons-in-the-output-layer\n",
    "- Validation: \n",
    " 1. https://stats.stackexchange.com/questions/104713/hold-out-validation-vs-cross-validation\n",
    " 2. https://en.wikipedia.org/wiki/Cross-validation_(statistics)#Non-exhaustive_cross-validation\n",
    " 3. https://medium.com/@eijaz/holdout-vs-cross-validation-in-machine-learning-7637112d3f8f\n",
    " 4. https://towardsdatascience.com/understanding-8-types-of-cross-validation-80c935a4976d\n",
    "- Confusion matrix plot code: https://vitalflux.com/python-draw-confusion-matrix-matplotlib/\n",
    "- Other mlp implementations for this dataset: \n",
    " 1. 59% acc, ReLU, hidden_units=[7000, 6000]: https://github.com/parvathic/ml-cifar10/tree/master/MLP%20code\n",
    " 2. 55% acc, [1536, 768, 384, 128] ReLU: https://towardsdatascience.com/implementing-a-deep-neural-network-for-the-cifar-10-dataset-c6eb493008a5\n",
    " 3. 37% acc, [256, 128]: https://pvss.github.io/MLP+of+CIFAR-10\n",
    "- Reported accuracies for cifar10: https://rodrigob.github.io/are_we_there_yet/build/classification_datasets_results.html#43494641522d3130\n"
   ]
  }
 ],
 "metadata": {
  "accelerator": "GPU",
  "colab": {
   "collapsed_sections": [
    "I6mIxLP2BaQu",
    "51e41ea5",
    "429e2295",
    "0cba5bf8",
    "fa2a1635",
    "5b2d6ea9",
    "mZbXu4jUF408",
    "wctiE0_EHDvV",
    "j9MmsGy9HdO3",
    "bJGZvfFiH_NG",
    "268XwSX0IZT2",
    "HYwTHiqsJJjp",
    "kfLcxLmZVFUL",
    "OcElTfLwV0tZ",
    "5KtlwMxIYb8z",
    "LpDO_r9pcJSV",
    "SG7Pl26gc0oH",
    "1kfy-yg7925a",
    "e8mIhhzFLGCn",
    "7OF0JhKGLSRC",
    "Ub6cT2pzLdI7",
    "XWC8haBJLodN",
    "bIetwaqxMVny",
    "Bllegs5s_5P7"
   ],
   "name": "proj_2.ipynb",
   "provenance": []
  },
  "kernelspec": {
   "display_name": "Python 3.9.10 64-bit",
   "language": "python",
   "name": "python3"
  },
  "language_info": {
   "codemirror_mode": {
    "name": "ipython",
    "version": 3
   },
   "file_extension": ".py",
   "mimetype": "text/x-python",
   "name": "python",
   "nbconvert_exporter": "python",
   "pygments_lexer": "ipython3",
   "version": "3.9.10"
  },
  "vscode": {
   "interpreter": {
    "hash": "8c03c45bd5c32223ad886f4d75996485ded953e41284294755fe70eb4c4da6de"
   }
  }
 },
 "nbformat": 4,
 "nbformat_minor": 5
}
